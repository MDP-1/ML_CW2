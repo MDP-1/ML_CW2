{
 "cells": [
  {
   "cell_type": "code",
   "execution_count": 2,
   "metadata": {},
   "outputs": [],
   "source": [
    "import tensorflow as tf\n",
    "import numpy as np\n",
    "import pandas as pd\n",
    "import matplotlib.pyplot as plt\n",
    "from sklearn.model_selection import train_test_split"
   ]
  },
  {
   "cell_type": "code",
   "execution_count": 3,
   "metadata": {},
   "outputs": [],
   "source": [
    "data_path = \"/Users/michaelpatsais/Documents/Uni_work/machine_learning/Data/carvana.csv\"\n",
    "df = pd.read_csv(data_path)"
   ]
  },
  {
   "cell_type": "code",
   "execution_count": 5,
   "metadata": {},
   "outputs": [
    {
     "name": "stdout",
     "output_type": "stream",
     "text": [
      "       Name  Year  Miles\n",
      "21995    32  2014  98085\n",
      "21996   123  2016  62616\n",
      "21997   136  2013  50345\n",
      "21998   322  2020  27945\n",
      "21999    26  2012  70676\n"
     ]
    }
   ],
   "source": [
    "# Cleaning data\n",
    "features = df.drop(\"Price\", axis = 1)\n",
    "labels = df[\"Price\"]\n",
    "\n",
    "# ear data is messed up on some lines, \n",
    "for i, date in enumerate(features[\"Year\"]):\n",
    "    if date != 4:\n",
    "        features.drop(features.index[i])\n",
    "\n",
    "# need to turn car names into numeric data, y\n",
    "car_names = features[\"Name\"].unique()\n",
    "car_map = {name : i for i, name in enumerate(car_names)}\n",
    "\n",
    "features[\"Name\"] = features[\"Name\"].map(car_map)\n",
    "print(features.tail())\n"
   ]
  },
  {
   "cell_type": "code",
   "execution_count": 32,
   "metadata": {},
   "outputs": [
    {
     "name": "stdout",
     "output_type": "stream",
     "text": [
      "[[    45   2012  80114]\n",
      " [   140  20204  64817]\n",
      " [    75   2021  45519]\n",
      " ...\n",
      " [    37   2018  72604]\n",
      " [    41   2012  48897]\n",
      " [    29   2012 100696]] [16990 22990 19590 ... 14590 21590 22990]\n"
     ]
    }
   ],
   "source": [
    "\n",
    "x_train, x_test = np.array(train_test_split(features, test_size=0.5))\n",
    "y_train, y_test = np.array(train_test_split(labels, test_size=0.5))\n",
    "\n",
    "print(x_train, y_train)"
   ]
  },
  {
   "cell_type": "code",
   "execution_count": 27,
   "metadata": {},
   "outputs": [],
   "source": [
    "\n",
    "epochs = 50\n",
    "batch_size = 25\n",
    "dropout = 0.25\n",
    "val_split = 0.5\n",
    "\n",
    "model = tf.keras.models.Sequential([\n",
    "    tf.keras.layers.Dense(128, activation = \"relu\", kernel_regularizer=tf.keras.regularizers.l2(0.01)),\n",
    "    tf.keras.layers.Dropout(dropout),\n",
    "    tf.keras.layers.Dense(64, activation = \"relu\", kernel_regularizer=tf.keras.regularizers.l2(0.01)),\n",
    "    tf.keras.layers.Dropout(dropout),\n",
    "    tf.keras.layers.Dense(32, activation = \"relu\"),\n",
    "    tf.keras.layers.Dense(1, activation = \"linear\")\n",
    "])"
   ]
  },
  {
   "cell_type": "code",
   "execution_count": 28,
   "metadata": {},
   "outputs": [
    {
     "name": "stderr",
     "output_type": "stream",
     "text": [
      "WARNING:absl:At this time, the v2.11+ optimizer `tf.keras.optimizers.Adam` runs slowly on M1/M2 Macs, please use the legacy Keras optimizer instead, located at `tf.keras.optimizers.legacy.Adam`.\n"
     ]
    }
   ],
   "source": [
    "learning_rate = 0.0001\n",
    "loss_fn = tf.keras.losses.MeanSquaredError()\n",
    "optimizer = tf.keras.optimizers.Adam()\n",
    "\n",
    "model.compile(optimizer = optimizer, loss = loss_fn)"
   ]
  },
  {
   "cell_type": "code",
   "execution_count": 29,
   "metadata": {},
   "outputs": [
    {
     "name": "stdout",
     "output_type": "stream",
     "text": [
      "Epoch 1/50\n",
      "220/220 [==============================] - 1s 2ms/step - loss: 4799385088.0000 - val_loss: 2697217536.0000\n",
      "Epoch 2/50\n",
      "220/220 [==============================] - 0s 643us/step - loss: 1532395776.0000 - val_loss: 158515264.0000\n",
      "Epoch 3/50\n",
      "220/220 [==============================] - 0s 743us/step - loss: 1951343104.0000 - val_loss: 155243504.0000\n",
      "Epoch 4/50\n",
      "220/220 [==============================] - 0s 675us/step - loss: 657261440.0000 - val_loss: 170642144.0000\n",
      "Epoch 5/50\n",
      "220/220 [==============================] - 0s 643us/step - loss: 553569408.0000 - val_loss: 149035376.0000\n",
      "Epoch 6/50\n",
      "220/220 [==============================] - 0s 702us/step - loss: 560321344.0000 - val_loss: 135799888.0000\n",
      "Epoch 7/50\n",
      "220/220 [==============================] - 0s 928us/step - loss: 276116096.0000 - val_loss: 119725088.0000\n",
      "Epoch 8/50\n",
      "220/220 [==============================] - 0s 652us/step - loss: 276088832.0000 - val_loss: 131958440.0000\n",
      "Epoch 9/50\n",
      "220/220 [==============================] - 0s 650us/step - loss: 209060624.0000 - val_loss: 116709688.0000\n",
      "Epoch 10/50\n",
      "220/220 [==============================] - 0s 661us/step - loss: 198926128.0000 - val_loss: 133408968.0000\n",
      "Epoch 11/50\n",
      "220/220 [==============================] - 0s 646us/step - loss: 225688544.0000 - val_loss: 120406400.0000\n",
      "Epoch 12/50\n",
      "220/220 [==============================] - 0s 650us/step - loss: 167707248.0000 - val_loss: 130274296.0000\n",
      "Epoch 13/50\n",
      "220/220 [==============================] - 0s 650us/step - loss: 199767120.0000 - val_loss: 142786768.0000\n",
      "Epoch 14/50\n",
      "220/220 [==============================] - 0s 648us/step - loss: 166154688.0000 - val_loss: 123507672.0000\n",
      "Epoch 15/50\n",
      "220/220 [==============================] - 0s 652us/step - loss: 160396496.0000 - val_loss: 134414544.0000\n",
      "Epoch 16/50\n",
      "220/220 [==============================] - 0s 656us/step - loss: 150989904.0000 - val_loss: 118482144.0000\n",
      "Epoch 17/50\n",
      "220/220 [==============================] - 0s 647us/step - loss: 193332992.0000 - val_loss: 133921424.0000\n",
      "Epoch 18/50\n",
      "220/220 [==============================] - 0s 652us/step - loss: 152441248.0000 - val_loss: 116510032.0000\n",
      "Epoch 19/50\n",
      "220/220 [==============================] - 0s 657us/step - loss: 132479392.0000 - val_loss: 118332608.0000\n",
      "Epoch 20/50\n",
      "220/220 [==============================] - 0s 647us/step - loss: 148843600.0000 - val_loss: 106182296.0000\n",
      "Epoch 21/50\n",
      "220/220 [==============================] - 0s 653us/step - loss: 118623640.0000 - val_loss: 121381776.0000\n",
      "Epoch 22/50\n",
      "220/220 [==============================] - 0s 644us/step - loss: 140419904.0000 - val_loss: 117692208.0000\n",
      "Epoch 23/50\n",
      "220/220 [==============================] - 0s 762us/step - loss: 109893448.0000 - val_loss: 116356336.0000\n",
      "Epoch 24/50\n",
      "220/220 [==============================] - 0s 709us/step - loss: 107544208.0000 - val_loss: 114598656.0000\n",
      "Epoch 25/50\n",
      "220/220 [==============================] - 0s 642us/step - loss: 136678000.0000 - val_loss: 127974960.0000\n",
      "Epoch 26/50\n",
      "220/220 [==============================] - 0s 641us/step - loss: 111716800.0000 - val_loss: 122603592.0000\n",
      "Epoch 27/50\n",
      "220/220 [==============================] - 0s 647us/step - loss: 111791848.0000 - val_loss: 111276240.0000\n",
      "Epoch 28/50\n",
      "220/220 [==============================] - 0s 685us/step - loss: 100671208.0000 - val_loss: 118362768.0000\n",
      "Epoch 29/50\n",
      "220/220 [==============================] - 0s 648us/step - loss: 100546928.0000 - val_loss: 98376032.0000\n",
      "Epoch 30/50\n",
      "220/220 [==============================] - 0s 646us/step - loss: 106065656.0000 - val_loss: 100848608.0000\n",
      "Epoch 31/50\n",
      "220/220 [==============================] - 0s 648us/step - loss: 101626128.0000 - val_loss: 107054544.0000\n",
      "Epoch 32/50\n",
      "220/220 [==============================] - 0s 642us/step - loss: 97958632.0000 - val_loss: 105224432.0000\n",
      "Epoch 33/50\n",
      "220/220 [==============================] - 0s 668us/step - loss: 100692736.0000 - val_loss: 107013544.0000\n",
      "Epoch 34/50\n",
      "220/220 [==============================] - 0s 647us/step - loss: 100564072.0000 - val_loss: 104503992.0000\n",
      "Epoch 35/50\n",
      "220/220 [==============================] - 0s 672us/step - loss: 95866176.0000 - val_loss: 110474072.0000\n",
      "Epoch 36/50\n",
      "220/220 [==============================] - 0s 645us/step - loss: 95688616.0000 - val_loss: 107228336.0000\n",
      "Epoch 37/50\n",
      "220/220 [==============================] - 0s 647us/step - loss: 97803048.0000 - val_loss: 99424544.0000\n",
      "Epoch 38/50\n",
      "220/220 [==============================] - 0s 647us/step - loss: 100025048.0000 - val_loss: 106874000.0000\n",
      "Epoch 39/50\n",
      "220/220 [==============================] - 0s 646us/step - loss: 99172800.0000 - val_loss: 97950704.0000\n",
      "Epoch 40/50\n",
      "220/220 [==============================] - 0s 640us/step - loss: 95024480.0000 - val_loss: 123175184.0000\n",
      "Epoch 41/50\n",
      "220/220 [==============================] - 0s 649us/step - loss: 97033968.0000 - val_loss: 132559760.0000\n",
      "Epoch 42/50\n",
      "220/220 [==============================] - 0s 657us/step - loss: 97668704.0000 - val_loss: 112595992.0000\n",
      "Epoch 43/50\n",
      "220/220 [==============================] - 0s 939us/step - loss: 89831640.0000 - val_loss: 132467944.0000\n",
      "Epoch 44/50\n",
      "220/220 [==============================] - 0s 648us/step - loss: 89847160.0000 - val_loss: 106889600.0000\n",
      "Epoch 45/50\n",
      "220/220 [==============================] - 0s 657us/step - loss: 92932640.0000 - val_loss: 131758576.0000\n",
      "Epoch 46/50\n",
      "220/220 [==============================] - 0s 656us/step - loss: 93531936.0000 - val_loss: 108967168.0000\n",
      "Epoch 47/50\n",
      "220/220 [==============================] - 0s 678us/step - loss: 95095424.0000 - val_loss: 111791880.0000\n",
      "Epoch 48/50\n",
      "220/220 [==============================] - 0s 645us/step - loss: 89801288.0000 - val_loss: 115300024.0000\n",
      "Epoch 49/50\n",
      "220/220 [==============================] - 0s 641us/step - loss: 87805368.0000 - val_loss: 113323304.0000\n",
      "Epoch 50/50\n",
      "220/220 [==============================] - 0s 662us/step - loss: 94496712.0000 - val_loss: 136477424.0000\n"
     ]
    }
   ],
   "source": [
    "history = model.fit(x_train, y_train, epochs = epochs, batch_size = batch_size, validation_split = val_split)"
   ]
  },
  {
   "cell_type": "code",
   "execution_count": 30,
   "metadata": {},
   "outputs": [
    {
     "data": {
      "image/png": "[encoded data removed]",
      "text/plain": [
       "<Figure size 640x480 with 1 Axes>"
      ]
     },
     "metadata": {},
     "output_type": "display_data"
    }
   ],
   "source": [
    "# plt.plot(history.history[\"accuracy\"])\n",
    "# plt.title('model accuracy')\n",
    "# plt.ylabel('accuracy')\n",
    "# plt.xlabel('epoch')\n",
    "# plt.yscale('log')\n",
    "# plt.show()\n",
    "\n",
    "plt.plot(history.history[\"loss\"])\n",
    "plt.plot(history.history[\"val_loss\"])\n",
    "plt.title('model loss')\n",
    "plt.ylabel('loss')\n",
    "plt.xlabel('epoch')\n",
    "plt.yscale('log')\n",
    "plt.show()"
   ]
  },
  {
   "cell_type": "code",
   "execution_count": 31,
   "metadata": {},
   "outputs": [
    {
     "name": "stdout",
     "output_type": "stream",
     "text": [
      "344/344 [==============================] - 0s 389us/step\n",
      "(11000,)\n",
      "       Actual Value  Predicted Value    Difference    accuracy\n",
      "0             17590     -3974.839600  21564.839600  122.597155\n",
      "1             12990     17958.876953  -4968.876953   38.251555\n",
      "2             22590     14468.108398   8121.891602   35.953482\n",
      "3             17590     15491.070312   2098.929688   11.932517\n",
      "4             24990     -5337.424805  30327.424805  121.358243\n",
      "...             ...              ...           ...         ...\n",
      "10995         16990     16600.669922    389.330078    2.291525\n",
      "10996         23590      5969.952637  17620.047363   74.692867\n",
      "10997         14990     12963.122070   2026.877930   13.521534\n",
      "10998         24990     15137.747070   9852.252930   39.424782\n",
      "10999         23990     13345.919922  10644.080078   44.368821\n",
      "\n",
      "[11000 rows x 4 columns]\n",
      "33.99959789244069\n"
     ]
    }
   ],
   "source": [
    "\n",
    "y_pred= np.concatenate(model.predict(x_test))\n",
    "print(y_pred.shape)\n",
    "# print(y_test[:5], y_pred)\n",
    "# work out accracy per perediction, and avg total accuracy\n",
    "pred_df=pd.DataFrame({'Actual Value':y_test,'Predicted Value':y_pred,'Difference':y_test-y_pred})\n",
    "\n",
    "\n",
    "pred_df[\"accuracy\"] =  abs(pred_df[\"Difference\"]/pred_df[\"Actual Value\"]* 100)\n",
    "\n",
    "print(pred_df)\n",
    "print(np.average(pred_df[\"accuracy\"]))"
   ]
  },
  {
   "cell_type": "code",
   "execution_count": null,
   "metadata": {},
   "outputs": [],
   "source": []
  }
 ],
 "metadata": {
  "kernelspec": {
   "display_name": "mlvenv",
   "language": "python",
   "name": "python3"
  },
  "language_info": {
   "codemirror_mode": {
    "name": "ipython",
    "version": 3
   },
   "file_extension": ".py",
   "mimetype": "text/x-python",
   "name": "python",
   "nbconvert_exporter": "python",
   "pygments_lexer": "ipython3",
   "version": "3.11.1"
  }
 },
 "nbformat": 4,
 "nbformat_minor": 2
}
